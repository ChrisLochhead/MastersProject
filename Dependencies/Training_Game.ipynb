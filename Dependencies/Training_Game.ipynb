{
 "cells": [
  {
   "cell_type": "code",
   "execution_count": null,
   "metadata": {},
   "outputs": [],
   "source": [
    "#Super class for developing custom environments more easily    \n",
    "class Training_Game():\n",
    "    def __init__(self, width, height, screen, surface, mode):\n",
    "        pass\n",
    "    def get_current_state(self):\n",
    "        pass\n",
    "    def get_reward(self):\n",
    "        pass\n",
    "    def execute_action(self):\n",
    "        pass\n",
    "    def render(self):\n",
    "        pass\n",
    "    def update(self):\n",
    "        pass\n",
    "    def reset(self):\n",
    "        pass"
   ]
  }
 ],
 "metadata": {
  "kernelspec": {
   "display_name": "Master's Kernel",
   "language": "python",
   "name": "py3"
  },
  "language_info": {
   "codemirror_mode": {
    "name": "ipython",
    "version": 3
   },
   "file_extension": ".py",
   "mimetype": "text/x-python",
   "name": "python",
   "nbconvert_exporter": "python",
   "pygments_lexer": "ipython3",
   "version": "3.8.5"
  }
 },
 "nbformat": 4,
 "nbformat_minor": 4
}
